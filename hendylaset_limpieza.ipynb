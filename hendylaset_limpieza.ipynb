{
 "cells": [
  {
   "cell_type": "code",
   "execution_count": 2,
   "id": "2d033bbf",
   "metadata": {},
   "outputs": [],
   "source": [
    "\n",
    "import pandas as pd\n",
    "import numpy as np\n",
    "\n",
    "# Ruta del archivo en tu equipo\n",
    "file_path = r\"C:\\Users\\zoebe\\OneDrive\\Escritorio\\bi analyst\\Hendylaset.xlsx\"\n",
    "\n",
    "# Cargar las hojas\n",
    "ordenes_df = pd.read_excel(file_path, sheet_name='ordenes')\n",
    "cart_items_df = pd.read_excel(file_path, sheet_name='cart-items')"
   ]
  },
  {
   "cell_type": "code",
   "execution_count": 4,
   "id": "f898bd44",
   "metadata": {},
   "outputs": [],
   "source": [
    "# --- LIMPIEZA DE ORDENES ---\n",
    "\n",
    "# Corregir duplicados en 'order_id'\n",
    "duplicados = ordenes_df[ordenes_df['order_id'].duplicated(keep=False)].copy()\n",
    "duplicados['recuento'] = duplicados.groupby('order_id').cumcount() + 1\n",
    "duplicados['order_id'] = duplicados.apply(\n",
    "    lambda row: f\"{row['order_id']}_{row['recuento']}\" if row['recuento'] > 1 else row['order_id'],\n",
    "    axis=1\n",
    ")\n",
    "duplicados.drop(columns='recuento', inplace=True)\n",
    "for idx, row in duplicados.iterrows():\n",
    "    ordenes_df.loc[idx, 'order_id'] = row['order_id']\n",
    "\n",
    "# Eliminar filas donde 'cart_id' no existe en cart-items\n",
    "cart_items_valid_ids = set(cart_items_df['cart_id'])\n",
    "ordenes_df = ordenes_df[ordenes_df['cart_id'].isin(cart_items_valid_ids)]\n",
    "\n",
    "# Agrupar por 'cart_id' como clave única\n",
    "ordenes_df = ordenes_df.groupby('cart_id', as_index=False).first()"
   ]
  },
  {
   "cell_type": "code",
   "execution_count": 5,
   "id": "a035fbd6",
   "metadata": {},
   "outputs": [],
   "source": [
    "# --- LIMPIEZA DE CART-ITEMS ---\n",
    "\n",
    "# Reemplazar valores nulos en 'category' con \"Null\"\n",
    "cart_items_df['category'] = cart_items_df['category'].fillna(\"Null\")\n",
    "\n",
    "# Crear jerarquía de categorías\n",
    "category_split = cart_items_df['category'].str.split('>', expand=True)\n",
    "category_split.columns = [f'Categoria_Nivel_{i+1}' for i in range(category_split.shape[1])]\n",
    "category_split = category_split.apply(lambda col: col.str.strip())\n",
    "cart_items_df = pd.concat([cart_items_df, category_split], axis=1)\n",
    "\n",
    "# Limpiar shipping_type\n",
    "valores_validos = ['standard', 'rapido', 'lento', 'pickup']\n",
    "cart_items_df['shipping_type'] = cart_items_df['shipping_type'].str.strip().str.lower()\n",
    "cart_items_df['shipping_type'] = cart_items_df['shipping_type'].apply(\n",
    "    lambda x: x if x in valores_validos else np.nan\n",
    ")\n",
    "\n",
    "# Validar 'quantity'\n",
    "cart_items_df['quantity'] = pd.to_numeric(cart_items_df['quantity'], errors='coerce')\n",
    "\n",
    "# Validar 'manufacturer'\n",
    "cart_items_df['manufacturer'] = cart_items_df['manufacturer'].apply(\n",
    "    lambda x: x if isinstance(x, str) else np.nan\n",
    ")"
   ]
  },
  {
   "cell_type": "code",
   "execution_count": 6,
   "id": "93585c93",
   "metadata": {},
   "outputs": [],
   "source": [
    "# --- FILTRAR ORDENES POR AÑO 2013 ---\n",
    "ordenes_df['timestamp_created'] = pd.to_datetime(ordenes_df['timestamp_created'], errors='coerce')\n",
    "ordenes_df = ordenes_df[ordenes_df['timestamp_created'].dt.year == 2013]\n",
    "\n",
    "# --- FILTRAR CART ITEMS POR LOS CART_ID DE 2013 ---\n",
    "cart_ids_2013 = set(ordenes_df['cart_id'])\n",
    "cart_items_df = cart_items_df[cart_items_df['cart_id'].isin(cart_ids_2013)]\n",
    "\n"
   ]
  },
  {
   "cell_type": "code",
   "execution_count": 7,
   "id": "dc4b4e66",
   "metadata": {},
   "outputs": [
    {
     "name": "stdout",
     "output_type": "stream",
     "text": [
      "✅ Archivo exportado exitosamente a:\n",
      "C:\\\\Users\\\\zoebe\\\\OneDrive\\\\Escritorio\\\\bi analyst\\\\Hendylaset_limpio.xlsx\n"
     ]
    }
   ],
   "source": [
    "# --- EXPORTAR A EXCEL ---\n",
    "\n",
    "output_path = r\"C:\\\\Users\\\\zoebe\\\\OneDrive\\\\Escritorio\\\\bi analyst\\\\Hendylaset_limpio.xlsx\"\n",
    "with pd.ExcelWriter(output_path) as writer:\n",
    "    ordenes_df.to_excel(writer, sheet_name='ordenes_2013', index=False)\n",
    "    cart_items_df.to_excel(writer, sheet_name='cart-items_limpio', index=False)\n",
    "\n",
    "print(f\"✅ Archivo exportado exitosamente a:\\n{output_path}\")"
   ]
  }
 ],
 "metadata": {
  "kernelspec": {
   "display_name": "Python 3",
   "language": "python",
   "name": "python3"
  },
  "language_info": {
   "codemirror_mode": {
    "name": "ipython",
    "version": 3
   },
   "file_extension": ".py",
   "mimetype": "text/x-python",
   "name": "python",
   "nbconvert_exporter": "python",
   "pygments_lexer": "ipython3",
   "version": "3.13.3"
  }
 },
 "nbformat": 4,
 "nbformat_minor": 5
}
